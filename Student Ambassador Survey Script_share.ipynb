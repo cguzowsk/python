{
 "cells": [
  {
   "cell_type": "code",
   "execution_count": 1,
   "id": "8f86ac9b",
   "metadata": {},
   "outputs": [],
   "source": [
    "import path"
   ]
  },
  {
   "cell_type": "code",
   "execution_count": 2,
   "id": "3c2ceac4",
   "metadata": {},
   "outputs": [],
   "source": [
    "import glob"
   ]
  },
  {
   "cell_type": "code",
   "execution_count": 3,
   "id": "1a190e28",
   "metadata": {},
   "outputs": [],
   "source": [
    "import os.path"
   ]
  },
  {
   "cell_type": "code",
   "execution_count": 4,
   "id": "bfbd3a30",
   "metadata": {},
   "outputs": [],
   "source": [
    "\n",
    "import pandas as pd"
   ]
  },
  {
   "cell_type": "code",
   "execution_count": 5,
   "id": "c83c9b30",
   "metadata": {},
   "outputs": [],
   "source": [
    "import numpy as np\n",
    "    "
   ]
  },
  {
   "cell_type": "code",
   "execution_count": 6,
   "id": "0596be53",
   "metadata": {},
   "outputs": [],
   "source": [
    "import os"
   ]
  },
  {
   "cell_type": "code",
   "execution_count": 7,
   "id": "01c0e755",
   "metadata": {},
   "outputs": [],
   "source": [
    "import datetime"
   ]
  },
  {
   "cell_type": "code",
   "execution_count": 8,
   "id": "b368762e",
   "metadata": {},
   "outputs": [],
   "source": [
    " pd.options.mode.chained_assignment = None  # default='warn'"
   ]
  },
  {
   "cell_type": "code",
   "execution_count": 9,
   "id": "098231da",
   "metadata": {},
   "outputs": [],
   "source": [
    "#cap_survey = 'W:\\\\hs database\\\\survey.csv'"
   ]
  },
  {
   "cell_type": "code",
   "execution_count": 10,
   "id": "5e8c123a",
   "metadata": {},
   "outputs": [],
   "source": [
    "folder_path_survey =  r\"W:\\\\hs database\\\\survey_here\""
   ]
  },
  {
   "cell_type": "code",
   "execution_count": 11,
   "id": "d9b9bf37",
   "metadata": {},
   "outputs": [],
   "source": [
    "folder_path_hs_report = r\"W:\\\\hs database\\\\hs_report_here\""
   ]
  },
  {
   "cell_type": "code",
   "execution_count": 12,
   "id": "d127dce2",
   "metadata": {},
   "outputs": [],
   "source": [
    "file_type =r'\\*csv'"
   ]
  },
  {
   "cell_type": "code",
   "execution_count": 13,
   "id": "f3c9ddda",
   "metadata": {},
   "outputs": [],
   "source": [
    "hs_data_import = glob.glob(folder_path_hs_report + file_type)"
   ]
  },
  {
   "cell_type": "code",
   "execution_count": null,
   "id": "7812b033",
   "metadata": {},
   "outputs": [],
   "source": []
  },
  {
   "cell_type": "code",
   "execution_count": 14,
   "id": "3a5b99dd",
   "metadata": {},
   "outputs": [],
   "source": [
    "cap_survey_import = glob.glob(folder_path_survey + file_type)"
   ]
  },
  {
   "cell_type": "code",
   "execution_count": 15,
   "id": "c676c09c",
   "metadata": {},
   "outputs": [],
   "source": [
    "max_file_survey=max(cap_survey_import, key=os.path.getctime)"
   ]
  },
  {
   "cell_type": "code",
   "execution_count": 16,
   "id": "9fe9a1dd",
   "metadata": {},
   "outputs": [],
   "source": [
    "max_file_hs_report = max(hs_data_import, key=os.path.getctime)"
   ]
  },
  {
   "cell_type": "code",
   "execution_count": 17,
   "id": "6a787b08",
   "metadata": {},
   "outputs": [],
   "source": [
    "cap_survey_df =pd.read_csv(max_file_survey)"
   ]
  },
  {
   "cell_type": "code",
   "execution_count": 18,
   "id": "00e3d777",
   "metadata": {},
   "outputs": [],
   "source": [
    "hs_data_df = pd.read_csv(max_file_hs_report)"
   ]
  },
  {
   "cell_type": "code",
   "execution_count": null,
   "id": "7cbff5cd",
   "metadata": {},
   "outputs": [],
   "source": []
  },
  {
   "cell_type": "code",
   "execution_count": 19,
   "id": "c23bcb4a",
   "metadata": {},
   "outputs": [],
   "source": [
    "cap_survey_df['Date'] = cap_survey_df['Date'].str.replace(r'UTC', '') #removes UTC from the date cell so we can convert to standard date format"
   ]
  },
  {
   "cell_type": "code",
   "execution_count": 20,
   "id": "ddb90f53",
   "metadata": {},
   "outputs": [],
   "source": [
    "cap_survey_df['Date'] = pd.to_datetime(cap_survey_df['Date'], format='%Y-%m-%d') #formatting date column to date data"
   ]
  },
  {
   "cell_type": "code",
   "execution_count": 21,
   "id": "f4645319",
   "metadata": {},
   "outputs": [],
   "source": [
    "survey_filtered_df= cap_survey_df[(cap_survey_df['Date'] > \"2022-02-01\") & (cap_survey_df['Date'] < \"2022-03 - 01\")] #filtering to include the last month's responses"
   ]
  },
  {
   "cell_type": "code",
   "execution_count": 22,
   "id": "38a50f88",
   "metadata": {},
   "outputs": [
    {
     "data": {
      "text/plain": [
       "Name                                                                                                                                                      object\n",
       "Date                                                                                                                                              datetime64[ns]\n",
       "Email Address                                                                                                                                             object\n",
       "Was your visit to Career Services long enough?                                                                                                            object\n",
       "To what extent did you find your visit to Career Services to be of value?                                                                                 object\n",
       "Indicate all of the resources or skills that you are more confident with because of your visit to Career Services.                                        object\n",
       "How likely is it that you would recommend visiting Career Services to a friend, colleague, or fellow student?                                             object\n",
       "Did we speak to you about next steps for engagement with our office?                                                                                      object\n",
       "Comments? Note that we encourage positive and/or constructive feedback in order to better serve our student body. We appreciate your feedback!            object\n",
       "What other services or programs would you like to see offered by Career Services?                                                                         object\n",
       "dtype: object"
      ]
     },
     "execution_count": 22,
     "metadata": {},
     "output_type": "execute_result"
    }
   ],
   "source": [
    "survey_filtered_df.dtypes"
   ]
  },
  {
   "cell_type": "code",
   "execution_count": 23,
   "id": "795a9a9d",
   "metadata": {},
   "outputs": [],
   "source": [
    "#survey_filtered_df.head() #shows the top five results"
   ]
  },
  {
   "cell_type": "code",
   "execution_count": 24,
   "id": "29dac027",
   "metadata": {},
   "outputs": [],
   "source": [
    "survey_filtered_df.drop(survey_filtered_df.columns[3:6], axis=1, inplace = True) #removing unneeded columns from survey sheet"
   ]
  },
  {
   "cell_type": "code",
   "execution_count": 25,
   "id": "f5553528",
   "metadata": {},
   "outputs": [],
   "source": [
    "#survey_filtered_df.head()"
   ]
  },
  {
   "cell_type": "code",
   "execution_count": 26,
   "id": "9ee7e1ac",
   "metadata": {},
   "outputs": [],
   "source": [
    "#survey_filtered_df['Date'] = pd.to_datetime(survey_filtered_df['Date'], format='%Y-%m-%d') #format new df to date"
   ]
  },
  {
   "cell_type": "code",
   "execution_count": 27,
   "id": "0b6e7b82",
   "metadata": {},
   "outputs": [],
   "source": [
    "hs_data_df = hs_data_df.rename(columns={\"Appointments Start Date Date\": \"Date\"}) #change column title to match other dataframe"
   ]
  },
  {
   "cell_type": "code",
   "execution_count": 28,
   "id": "f6f15c3b",
   "metadata": {},
   "outputs": [],
   "source": [
    "hs_data_df =hs_data_df.rename(columns={\"Student Email - Institution\": \"Email Address\"}) #change column title to match dataframe"
   ]
  },
  {
   "cell_type": "code",
   "execution_count": 29,
   "id": "c64037d3",
   "metadata": {},
   "outputs": [
    {
     "data": {
      "text/plain": [
       "Email Address             object\n",
       "Appointment Types Name    object\n",
       "Student First Name        object\n",
       "Student Last Name         object\n",
       "Date                      object\n",
       "Staff Member Last Name    object\n",
       "dtype: object"
      ]
     },
     "execution_count": 29,
     "metadata": {},
     "output_type": "execute_result"
    }
   ],
   "source": [
    "hs_data_df.dtypes"
   ]
  },
  {
   "cell_type": "code",
   "execution_count": 30,
   "id": "b2b41154",
   "metadata": {},
   "outputs": [],
   "source": [
    "hs_data_df['Date'] = pd.to_datetime(hs_data_df['Date'], format='%Y-%m-%d') #format column to date"
   ]
  },
  {
   "cell_type": "code",
   "execution_count": 31,
   "id": "c6bcb1d1",
   "metadata": {},
   "outputs": [
    {
     "data": {
      "text/plain": [
       "Email Address                     object\n",
       "Appointment Types Name            object\n",
       "Student First Name                object\n",
       "Student Last Name                 object\n",
       "Date                      datetime64[ns]\n",
       "Staff Member Last Name            object\n",
       "dtype: object"
      ]
     },
     "execution_count": 31,
     "metadata": {},
     "output_type": "execute_result"
    }
   ],
   "source": [
    "hs_data_df.dtypes"
   ]
  },
  {
   "cell_type": "code",
   "execution_count": 32,
   "id": "b8f72a3d",
   "metadata": {},
   "outputs": [],
   "source": [
    "mask_hs_data_df = hs_data_df[\"Staff Member Last Name\"].isin([\"Dhiman\", \"Kallen\", \"Williams\",\"Baig\",\"Leonard\", \"Tate\",\"Desandre\",\"Lamons\"])"
   ]
  },
  {
   "cell_type": "code",
   "execution_count": 33,
   "id": "6cf108d6",
   "metadata": {},
   "outputs": [],
   "source": [
    "#mask_hs_data_df"
   ]
  },
  {
   "cell_type": "code",
   "execution_count": 34,
   "id": "0a749472",
   "metadata": {},
   "outputs": [],
   "source": [
    "final_hs_data_df = hs_data_df[mask_hs_data_df]"
   ]
  },
  {
   "cell_type": "code",
   "execution_count": null,
   "id": "efb50b9b",
   "metadata": {},
   "outputs": [],
   "source": []
  },
  {
   "cell_type": "code",
   "execution_count": 35,
   "id": "c0234146",
   "metadata": {},
   "outputs": [],
   "source": [
    "#final_hs_data_df"
   ]
  },
  {
   "cell_type": "code",
   "execution_count": 36,
   "id": "2a206ab5",
   "metadata": {},
   "outputs": [],
   "source": [
    "final_cap_update= pd.merge(survey_filtered_df, final_hs_data_df, on=(\"Email Address\"), how = \"inner\")"
   ]
  },
  {
   "cell_type": "code",
   "execution_count": 37,
   "id": "c23799a7",
   "metadata": {},
   "outputs": [],
   "source": [
    "final_cap_update[\"diff_days\"] =final_cap_update[\"Date_x\"]- final_cap_update[\"Date_y\"] #if i remove \"date\" from the merge, then we can look at the day difference between the two times they met\n"
   ]
  },
  {
   "cell_type": "code",
   "execution_count": 38,
   "id": "b48c89db",
   "metadata": {},
   "outputs": [],
   "source": [
    "#final_cap_update.head()"
   ]
  },
  {
   "cell_type": "code",
   "execution_count": 39,
   "id": "27305fda",
   "metadata": {},
   "outputs": [],
   "source": [
    "cap_survey_final_draft_df = final_cap_update.query('diff_days.dt.days <3') #removing entries where the completion diff is more than three days = which removes most of the anomalies"
   ]
  },
  {
   "cell_type": "code",
   "execution_count": 40,
   "id": "1ec2df19",
   "metadata": {},
   "outputs": [],
   "source": [
    "#cap_survey_final_draft_df"
   ]
  },
  {
   "cell_type": "code",
   "execution_count": 41,
   "id": "5960b81e",
   "metadata": {},
   "outputs": [],
   "source": [
    "final_draft = cap_survey_final_draft_df.drop(columns = [\"Student First Name\",\"Student Last Name\", \"Date_y\", \"diff_days\"]) #removing unneeded columns - could do this in code earlier when i merged"
   ]
  },
  {
   "cell_type": "code",
   "execution_count": 42,
   "id": "cc88e6e5",
   "metadata": {},
   "outputs": [],
   "source": [
    "#final_draft"
   ]
  },
  {
   "cell_type": "code",
   "execution_count": 43,
   "id": "c8cd3c2e",
   "metadata": {},
   "outputs": [],
   "source": [
    "#final_draft.dtypes"
   ]
  },
  {
   "cell_type": "code",
   "execution_count": 45,
   "id": "3eaa1758",
   "metadata": {},
   "outputs": [],
   "source": [
    "final_draft.to_csv('W:\\\\hs database\\\\Final.csv') #writes to hs database folder as a csv"
   ]
  }
 ],
 "metadata": {
  "kernelspec": {
   "display_name": "Python 3",
   "language": "python",
   "name": "python3"
  },
  "language_info": {
   "codemirror_mode": {
    "name": "ipython",
    "version": 3
   },
   "file_extension": ".py",
   "mimetype": "text/x-python",
   "name": "python",
   "nbconvert_exporter": "python",
   "pygments_lexer": "ipython3",
   "version": "3.8.8"
  }
 },
 "nbformat": 4,
 "nbformat_minor": 5
}
